{
 "cells": [
  {
   "cell_type": "code",
   "execution_count": 112,
   "metadata": {},
   "outputs": [],
   "source": [
    "import pandas as pd\n",
    "import matplotlib.pyplot as plt\n",
    "%matplotlib inline\n",
    "from matplotlib.ticker import FuncFormatter\n",
    "import matplotlib.patches as mpatches\n",
    "import matplotlib.lines as mlines"
   ]
  },
  {
   "cell_type": "code",
   "execution_count": 113,
   "metadata": {},
   "outputs": [],
   "source": [
    "### Taken from https://flynn.gg/blog/better-matplotlib-charts/\n",
    "def number_formatter(number, pos=None):\n",
    "    \"\"\"Convert a number into a human readable format.\"\"\"\n",
    "    magnitude = 0\n",
    "    while abs(number) >= 1000:\n",
    "        magnitude += 1\n",
    "        number /= 1000.0\n",
    "    return '%.1f%s' % (number, ['', 'K', 'M', 'B', 'T', 'Q'][magnitude])\n",
    "#ax.yaxis.set_major_formatter(FuncFormatter(number_formatter))"
   ]
  },
  {
   "cell_type": "code",
   "execution_count": 114,
   "metadata": {},
   "outputs": [],
   "source": [
    "df = pd.read_csv('../compare_loss_by_sector.csv')\n",
    "df['sector'] = df['short'].apply(lambda x: x.title())\n",
    "df['loss']*=10**6\n",
    "df['label'] = df['intervention'].apply(lambda x: '{}%,{}d'.format(x.split('_')[-2],x.split('_')[-1]) if x!='none' else 'base')\n",
    "df.sort_values(['label','sector'],ascending=False,inplace=True)"
   ]
  },
  {
   "cell_type": "code",
   "execution_count": 115,
   "metadata": {},
   "outputs": [],
   "source": [
    "colors = dict(zip(['60%','70%','80%','90%'],['#1b9e77','#d95f02','#7570b3','#e7298a']))\n",
    "markers = dict(zip(['30d','45d','60d'],['o','^','s']))"
   ]
  },
  {
   "cell_type": "code",
   "execution_count": null,
   "metadata": {},
   "outputs": [],
   "source": [
    "plt.figure(figsize=(10,8.5))\n",
    "ax = plt.gca()\n",
    "for itv_l in df['label'].unique():\n",
    "    alpha = 1\n",
    "    if itv_l != '70%,45d':\n",
    "        alpha = 0.1\n",
    "    if itv_l != 'base':\n",
    "        df[df['label']==itv_l].plot.scatter(x='loss',y='sector',marker=markers[itv_l.split(',')[1]],color=colors[itv_l.split(',')[0]],alpha=alpha,ax=ax,s=100)\n",
    "df[df['label']=='base'].plot.scatter(x='loss',y='sector',color='k',marker='d',s=100,ax=ax)\n",
    "band_color = ['#dbdbdb','#bdbdbd']\n",
    "for y in ax.get_yticks():\n",
    "    ax.axhspan(y-0.5,y+0.5,color=band_color[y%2],zorder=0,alpha=0.5)\n",
    "\n",
    "ax.set_ylim([-0.5,20.5])\n",
    "ax.xaxis.set_major_formatter(FuncFormatter(number_formatter))\n",
    "plt.tick_params(labelsize=14)\n",
    "plt.xlabel('Loss in dollars',fontsize=16)\n",
    "plt.ylabel('Sector',fontsize=16)\n",
    "plt.legend(handles=[mpatches.Patch(color=colors[k],label=k) for k in colors.keys()] + \n",
    "                   [mlines.Line2D([], [], color='k',marker=markers[k],linestyle='None',markersize=10,markerfacecolor='none',label=k) for k in markers.keys()] +\n",
    "                   [mlines.Line2D([],[],color='k',marker='d',linestyle='None',markersize=10,label='base')],fontsize=14)\n",
    "\n",
    "# plt.legend(handles=[mpatches.Patch(color=colors[k],label=k) for k in ['70%']] + \n",
    "#                    [mlines.Line2D([], [], color='k',marker=markers[k],linestyle='None',markersize=10,markerfacecolor='none',label=k) for k in ['45d']] +\n",
    "#                    [mlines.Line2D([],[],color='k',marker='d',linestyle='None',markersize=10,label='base')],fontsize=14)\n",
    "\n",
    "plt.savefig('../../fig/loss_per_sector.png',bbox_inches='tight',dpi=100)"
   ]
  },
  {
   "cell_type": "code",
   "execution_count": null,
   "metadata": {},
   "outputs": [],
   "source": []
  }
 ],
 "metadata": {
  "kernelspec": {
   "display_name": "Python 3",
   "language": "python",
   "name": "python3"
  },
  "language_info": {
   "codemirror_mode": {
    "name": "ipython",
    "version": 3
   },
   "file_extension": ".py",
   "mimetype": "text/x-python",
   "name": "python",
   "nbconvert_exporter": "python",
   "pygments_lexer": "ipython3",
   "version": "3.7.4"
  }
 },
 "nbformat": 4,
 "nbformat_minor": 4
}
